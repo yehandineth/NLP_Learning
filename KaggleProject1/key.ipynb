{
 "cells": [
  {
   "cell_type": "markdown",
   "metadata": {},
   "source": [
    "# Model for Disaster tweet classification on Kaggle - [LINK](https://www.kaggle.com/competitions/nlp-getting-started/overview)\n",
    "# Main Goal : \n",
    "> get accuracy above 82.5% on validation data - 15 %\n",
    "---\n",
    "Steps:\n",
    "\n",
    "1. create the datasets\n",
    "2. create the embedding model\n",
    "3. create vectorizer for keywords\n",
    "4. create model with all together\n",
    "5. train\n",
    "6. fine tune\n",
    "7. evaluate\n",
    "8. repeat experiments\n",
    "9. create submission"
   ]
  },
  {
   "cell_type": "code",
   "execution_count": 1,
   "metadata": {},
   "outputs": [
    {
     "name": "stderr",
     "output_type": "stream",
     "text": [
      "2024-11-15 11:35:40.905096: I tensorflow/core/util/port.cc:153] oneDNN custom operations are on. You may see slightly different numerical results due to floating-point round-off errors from different computation orders. To turn them off, set the environment variable `TF_ENABLE_ONEDNN_OPTS=0`.\n",
      "2024-11-15 11:35:41.324603: E external/local_xla/xla/stream_executor/cuda/cuda_fft.cc:477] Unable to register cuFFT factory: Attempting to register factory for plugin cuFFT when one has already been registered\n",
      "WARNING: All log messages before absl::InitializeLog() is called are written to STDERR\n",
      "E0000 00:00:1731650741.484949    1007 cuda_dnn.cc:8310] Unable to register cuDNN factory: Attempting to register factory for plugin cuDNN when one has already been registered\n",
      "E0000 00:00:1731650741.515978    1007 cuda_blas.cc:1418] Unable to register cuBLAS factory: Attempting to register factory for plugin cuBLAS when one has already been registered\n",
      "2024-11-15 11:35:41.760276: I tensorflow/core/platform/cpu_feature_guard.cc:210] This TensorFlow binary is optimized to use available CPU instructions in performance-critical operations.\n",
      "To enable the following instructions: AVX2 AVX_VNNI FMA, in other operations, rebuild TensorFlow with the appropriate compiler flags.\n"
     ]
    }
   ],
   "source": [
    "import tensorflow as tf\n",
    "import pandas as pd\n",
    "import keras\n",
    "import numpy as np\n",
    "import matplotlib.pyplot as plt\n",
    "from config.config import *\n",
    "from callbacks.callbacks import *\n",
    "from keras.api.layers import Embedding, TextVectorization"
   ]
  },
  {
   "cell_type": "markdown",
   "metadata": {},
   "source": [
    "# 1 Creating the datasets"
   ]
  },
  {
   "cell_type": "code",
   "execution_count": 2,
   "metadata": {},
   "outputs": [
    {
     "data": {
      "text/html": [
       "<div>\n",
       "<style scoped>\n",
       "    .dataframe tbody tr th:only-of-type {\n",
       "        vertical-align: middle;\n",
       "    }\n",
       "\n",
       "    .dataframe tbody tr th {\n",
       "        vertical-align: top;\n",
       "    }\n",
       "\n",
       "    .dataframe thead th {\n",
       "        text-align: right;\n",
       "    }\n",
       "</style>\n",
       "<table border=\"1\" class=\"dataframe\">\n",
       "  <thead>\n",
       "    <tr style=\"text-align: right;\">\n",
       "      <th></th>\n",
       "      <th>keyword</th>\n",
       "      <th>text</th>\n",
       "      <th>target</th>\n",
       "    </tr>\n",
       "  </thead>\n",
       "  <tbody>\n",
       "    <tr>\n",
       "      <th>0</th>\n",
       "      <td>NaN</td>\n",
       "      <td>Our Deeds are the Reason of this #earthquake M...</td>\n",
       "      <td>1</td>\n",
       "    </tr>\n",
       "    <tr>\n",
       "      <th>1</th>\n",
       "      <td>NaN</td>\n",
       "      <td>Forest fire near La Ronge Sask. Canada</td>\n",
       "      <td>1</td>\n",
       "    </tr>\n",
       "    <tr>\n",
       "      <th>2</th>\n",
       "      <td>NaN</td>\n",
       "      <td>All residents asked to 'shelter in place' are ...</td>\n",
       "      <td>1</td>\n",
       "    </tr>\n",
       "    <tr>\n",
       "      <th>3</th>\n",
       "      <td>NaN</td>\n",
       "      <td>13,000 people receive #wildfires evacuation or...</td>\n",
       "      <td>1</td>\n",
       "    </tr>\n",
       "    <tr>\n",
       "      <th>4</th>\n",
       "      <td>NaN</td>\n",
       "      <td>Just got sent this photo from Ruby #Alaska as ...</td>\n",
       "      <td>1</td>\n",
       "    </tr>\n",
       "    <tr>\n",
       "      <th>...</th>\n",
       "      <td>...</td>\n",
       "      <td>...</td>\n",
       "      <td>...</td>\n",
       "    </tr>\n",
       "    <tr>\n",
       "      <th>7608</th>\n",
       "      <td>NaN</td>\n",
       "      <td>Two giant cranes holding a bridge collapse int...</td>\n",
       "      <td>1</td>\n",
       "    </tr>\n",
       "    <tr>\n",
       "      <th>7609</th>\n",
       "      <td>NaN</td>\n",
       "      <td>@aria_ahrary @TheTawniest The out of control w...</td>\n",
       "      <td>1</td>\n",
       "    </tr>\n",
       "    <tr>\n",
       "      <th>7610</th>\n",
       "      <td>NaN</td>\n",
       "      <td>M1.94 [01:04 UTC]?5km S of Volcano Hawaii. htt...</td>\n",
       "      <td>1</td>\n",
       "    </tr>\n",
       "    <tr>\n",
       "      <th>7611</th>\n",
       "      <td>NaN</td>\n",
       "      <td>Police investigating after an e-bike collided ...</td>\n",
       "      <td>1</td>\n",
       "    </tr>\n",
       "    <tr>\n",
       "      <th>7612</th>\n",
       "      <td>NaN</td>\n",
       "      <td>The Latest: More Homes Razed by Northern Calif...</td>\n",
       "      <td>1</td>\n",
       "    </tr>\n",
       "  </tbody>\n",
       "</table>\n",
       "<p>7613 rows × 3 columns</p>\n",
       "</div>"
      ],
      "text/plain": [
       "     keyword                                               text  target\n",
       "0        NaN  Our Deeds are the Reason of this #earthquake M...       1\n",
       "1        NaN             Forest fire near La Ronge Sask. Canada       1\n",
       "2        NaN  All residents asked to 'shelter in place' are ...       1\n",
       "3        NaN  13,000 people receive #wildfires evacuation or...       1\n",
       "4        NaN  Just got sent this photo from Ruby #Alaska as ...       1\n",
       "...      ...                                                ...     ...\n",
       "7608     NaN  Two giant cranes holding a bridge collapse int...       1\n",
       "7609     NaN  @aria_ahrary @TheTawniest The out of control w...       1\n",
       "7610     NaN  M1.94 [01:04 UTC]?5km S of Volcano Hawaii. htt...       1\n",
       "7611     NaN  Police investigating after an e-bike collided ...       1\n",
       "7612     NaN  The Latest: More Homes Razed by Northern Calif...       1\n",
       "\n",
       "[7613 rows x 3 columns]"
      ]
     },
     "execution_count": 2,
     "metadata": {},
     "output_type": "execute_result"
    }
   ],
   "source": [
    "training_df = pd.read_csv(DATA_DIR.joinpath('train.csv'))\n",
    "training_df.drop(columns=['id', 'location'])#.sample(frac=1, random_state=SEED)"
   ]
  },
  {
   "cell_type": "code",
   "execution_count": 3,
   "metadata": {},
   "outputs": [],
   "source": [
    "from sklearn.model_selection import train_test_split\n",
    "\n",
    "X_train, X_val, y_train, y_val = train_test_split(\n",
    "    training_df[['keyword', 'text']].to_numpy(dtype=np.str_), \n",
    "    training_df['target'].to_numpy(),\n",
    "    shuffle=True,\n",
    "    test_size=0.2,\n",
    "    )"
   ]
  },
  {
   "cell_type": "code",
   "execution_count": 4,
   "metadata": {},
   "outputs": [
    {
     "data": {
      "text/plain": [
       "(0    3461\n",
       " 1    2629\n",
       " Name: count, dtype: int64,\n",
       " 0    881\n",
       " 1    642\n",
       " Name: count, dtype: int64)"
      ]
     },
     "execution_count": 4,
     "metadata": {},
     "output_type": "execute_result"
    }
   ],
   "source": [
    "pd.Series(y_train).value_counts(), pd.Series(y_val).value_counts()"
   ]
  },
  {
   "cell_type": "markdown",
   "metadata": {},
   "source": [
    "# 2 Create the embedding model"
   ]
  },
  {
   "cell_type": "code",
   "execution_count": 5,
   "metadata": {},
   "outputs": [
    {
     "name": "stderr",
     "output_type": "stream",
     "text": [
      "I0000 00:00:1731650864.728351    1007 gpu_device.cc:2022] Created device /job:localhost/replica:0/task:0/device:GPU:0 with 3539 MB memory:  -> device: 0, name: NVIDIA GeForce RTX 4050 Laptop GPU, pci bus id: 0000:01:00.0, compute capability: 8.9\n"
     ]
    }
   ],
   "source": [
    "import tensorflow_hub as hub\n",
    "\n",
    "embedding_layer = hub.KerasLayer(\n",
    "    \"https://www.kaggle.com/models/google/universal-sentence-encoder/TensorFlow2/universal-sentence-encoder/2\",\n",
    "    trainable=False,\n",
    "    input_shape=[],\n",
    "    dtype=tf.string,\n",
    "    name='USE2'\n",
    "    )\n",
    "embedding_layer.trainable = False"
   ]
  },
  {
   "cell_type": "markdown",
   "metadata": {},
   "source": [
    "# 3 Create the text vectorizer"
   ]
  },
  {
   "cell_type": "markdown",
   "metadata": {},
   "source": [
    "# 4 Create model with all together"
   ]
  },
  {
   "cell_type": "code",
   "execution_count": 120,
   "metadata": {},
   "outputs": [],
   "source": [
    "inputs = keras.layers.Input(shape=(513,), name='input_layer')\n",
    "\n",
    "x = keras.layers.Embedding(input_dim=1000, output_dim=16)(inputs[...,0:1])\n",
    "x = keras.layers.GlobalAveragePooling1D()(x)\n",
    "x = keras.layers.Dense(64, activation='relu')(x)\n",
    "outputs1 = keras.layers.Dense(1, activation='sigmoid')(x)\n",
    "\n",
    "x = keras.layers.Dense(128, activation='relu')(inputs[...,1:])\n",
    "x = keras.layers.Dense(32, activation='relu')(x)\n",
    "outputs2 = keras.layers.Dense(1, activation='sigmoid')(x)\n",
    "\n",
    "outputs = keras.layers.Average()([outputs1, outputs2])\n",
    "\n",
    "predictor_ = keras.Model(inputs, outputs)"
   ]
  },
  {
   "cell_type": "markdown",
   "metadata": {},
   "source": [
    "# 5 Train the model"
   ]
  },
  {
   "cell_type": "code",
   "execution_count": 121,
   "metadata": {},
   "outputs": [],
   "source": [
    "class Model():\n",
    "\n",
    "    def __init__(self, vectorizer, embedder, predictor , name : str=''):\n",
    "\n",
    "        self.vectorizer = vectorizer\n",
    "        self.embedder = embedder\n",
    "        self.predictor = keras.models.clone_model(predictor)\n",
    "        self.predictor.set_weights(predictor.get_weights())\n",
    "        self.predictor.compile(optimizer = keras.optimizers.Adam(), loss=keras.losses.BinaryCrossentropy(), metrics=['accuracy'])\n",
    "        self.experiment_count = 0 \n",
    "        self.name = name\n",
    "\n",
    "    def fit(self, X, y, epochs, validation_data, batch_size=BATCH_SIZE, initial_epoch=0):\n",
    "\n",
    "        Xt, yt = validation_data\n",
    "\n",
    "        x1 = X[...,0]\n",
    "        x2 = X[...,1]\n",
    "        tx1 = Xt[...,0]\n",
    "        tx2 = Xt[...,1]\n",
    "\n",
    "        self.vectorizer.adapt(x1)\n",
    "        vx = self.vectorizer(x1)\n",
    "        ex = self.embedder(x2)\n",
    "        tvx = self.vectorizer(tx1)\n",
    "        tex = self.embedder(tx2)\n",
    "        tX = np.concatenate((vx, ex),axis=-1)\n",
    "        ttX = np.concatenate((tvx, tex),axis=-1)\n",
    "                \n",
    "        tbcallback = create_tensorboard_callback(self.name, f'RUN{self.experiment_count}')\n",
    "        history = self.predictor.fit(\n",
    "            tX, \n",
    "            y, \n",
    "            epochs=epochs, \n",
    "            validation_data=(ttX, yt), \n",
    "            batch_size=batch_size, \n",
    "            initial_epoch=initial_epoch, \n",
    "            callbacks=[tbcallback]\n",
    "        )\n",
    "        self.experiment_count +=1\n",
    "        return history\n",
    "\n",
    "    def predict(self, X):\n",
    "\n",
    "        x1 = X[...,0]\n",
    "        x2 = X[...,1]\n",
    "        vx = self.vectorizer(x1)\n",
    "        ex = self.embedder(x2)\n",
    "        tX = np.concatenate((vx, ex),axis=-1)\n",
    "        return self.predictor.predict(tX)"
   ]
  },
  {
   "cell_type": "code",
   "execution_count": 122,
   "metadata": {},
   "outputs": [],
   "source": [
    "model_0 = Model(\n",
    "    TextVectorization(max_tokens=1000, output_sequence_length=1),\n",
    "    embedding_layer,\n",
    "    predictor_\n",
    ")"
   ]
  },
  {
   "cell_type": "code",
   "execution_count": 123,
   "metadata": {},
   "outputs": [
    {
     "name": "stdout",
     "output_type": "stream",
     "text": [
      "Saving log files to : /home/yehand/.vscode-server/projects/NLP/experiments/RUN0\n",
      "Epoch 1/25\n",
      "\u001b[1m191/191\u001b[0m \u001b[32m━━━━━━━━━━━━━━━━━━━━\u001b[0m\u001b[37m\u001b[0m \u001b[1m9s\u001b[0m 21ms/step - accuracy: 0.7184 - loss: 0.5960 - val_accuracy: 0.8129 - val_loss: 0.4332\n",
      "Epoch 2/25\n",
      "\u001b[1m191/191\u001b[0m \u001b[32m━━━━━━━━━━━━━━━━━━━━\u001b[0m\u001b[37m\u001b[0m \u001b[1m1s\u001b[0m 6ms/step - accuracy: 0.8284 - loss: 0.4225 - val_accuracy: 0.8332 - val_loss: 0.4162\n",
      "Epoch 3/25\n",
      "\u001b[1m191/191\u001b[0m \u001b[32m━━━━━━━━━━━━━━━━━━━━\u001b[0m\u001b[37m\u001b[0m \u001b[1m1s\u001b[0m 5ms/step - accuracy: 0.8469 - loss: 0.3875 - val_accuracy: 0.8273 - val_loss: 0.4175\n",
      "Epoch 4/25\n",
      "\u001b[1m191/191\u001b[0m \u001b[32m━━━━━━━━━━━━━━━━━━━━\u001b[0m\u001b[37m\u001b[0m \u001b[1m1s\u001b[0m 7ms/step - accuracy: 0.8515 - loss: 0.3747 - val_accuracy: 0.8293 - val_loss: 0.4156\n",
      "Epoch 5/25\n",
      "\u001b[1m191/191\u001b[0m \u001b[32m━━━━━━━━━━━━━━━━━━━━\u001b[0m\u001b[37m\u001b[0m \u001b[1m1s\u001b[0m 7ms/step - accuracy: 0.8663 - loss: 0.3537 - val_accuracy: 0.8299 - val_loss: 0.4172\n",
      "Epoch 6/25\n",
      "\u001b[1m191/191\u001b[0m \u001b[32m━━━━━━━━━━━━━━━━━━━━\u001b[0m\u001b[37m\u001b[0m \u001b[1m1s\u001b[0m 6ms/step - accuracy: 0.8700 - loss: 0.3503 - val_accuracy: 0.8313 - val_loss: 0.4232\n",
      "Epoch 7/25\n",
      "\u001b[1m191/191\u001b[0m \u001b[32m━━━━━━━━━━━━━━━━━━━━\u001b[0m\u001b[37m\u001b[0m \u001b[1m2s\u001b[0m 9ms/step - accuracy: 0.8814 - loss: 0.3341 - val_accuracy: 0.8339 - val_loss: 0.4255\n",
      "Epoch 8/25\n",
      "\u001b[1m191/191\u001b[0m \u001b[32m━━━━━━━━━━━━━━━━━━━━\u001b[0m\u001b[37m\u001b[0m \u001b[1m0s\u001b[0m 493us/step - accuracy: 0.8894 - loss: 0.3087 - val_accuracy: 0.8280 - val_loss: 0.4286\n",
      "Epoch 9/25\n",
      "\u001b[1m191/191\u001b[0m \u001b[32m━━━━━━━━━━━━━━━━━━━━\u001b[0m\u001b[37m\u001b[0m \u001b[1m1s\u001b[0m 6ms/step - accuracy: 0.9093 - loss: 0.3007 - val_accuracy: 0.8221 - val_loss: 0.4401\n",
      "Epoch 10/25\n",
      "\u001b[1m191/191\u001b[0m \u001b[32m━━━━━━━━━━━━━━━━━━━━\u001b[0m\u001b[37m\u001b[0m \u001b[1m1s\u001b[0m 8ms/step - accuracy: 0.9122 - loss: 0.2888 - val_accuracy: 0.8253 - val_loss: 0.4453\n",
      "Epoch 11/25\n",
      "\u001b[1m191/191\u001b[0m \u001b[32m━━━━━━━━━━━━━━━━━━━━\u001b[0m\u001b[37m\u001b[0m \u001b[1m2s\u001b[0m 8ms/step - accuracy: 0.9243 - loss: 0.2774 - val_accuracy: 0.8162 - val_loss: 0.4528\n",
      "Epoch 12/25\n",
      "\u001b[1m191/191\u001b[0m \u001b[32m━━━━━━━━━━━━━━━━━━━━\u001b[0m\u001b[37m\u001b[0m \u001b[1m2s\u001b[0m 9ms/step - accuracy: 0.9269 - loss: 0.2672 - val_accuracy: 0.8273 - val_loss: 0.4446\n",
      "Epoch 13/25\n",
      "\u001b[1m191/191\u001b[0m \u001b[32m━━━━━━━━━━━━━━━━━━━━\u001b[0m\u001b[37m\u001b[0m \u001b[1m2s\u001b[0m 10ms/step - accuracy: 0.9339 - loss: 0.2621 - val_accuracy: 0.8227 - val_loss: 0.4641\n",
      "Epoch 14/25\n",
      "\u001b[1m191/191\u001b[0m \u001b[32m━━━━━━━━━━━━━━━━━━━━\u001b[0m\u001b[37m\u001b[0m \u001b[1m2s\u001b[0m 8ms/step - accuracy: 0.9292 - loss: 0.2639 - val_accuracy: 0.8181 - val_loss: 0.4634\n",
      "Epoch 15/25\n",
      "\u001b[1m191/191\u001b[0m \u001b[32m━━━━━━━━━━━━━━━━━━━━\u001b[0m\u001b[37m\u001b[0m \u001b[1m2s\u001b[0m 9ms/step - accuracy: 0.9373 - loss: 0.2558 - val_accuracy: 0.8240 - val_loss: 0.4645\n",
      "Epoch 16/25\n",
      "\u001b[1m191/191\u001b[0m \u001b[32m━━━━━━━━━━━━━━━━━━━━\u001b[0m\u001b[37m\u001b[0m \u001b[1m2s\u001b[0m 8ms/step - accuracy: 0.9342 - loss: 0.2600 - val_accuracy: 0.8227 - val_loss: 0.4754\n",
      "Epoch 17/25\n",
      "\u001b[1m191/191\u001b[0m \u001b[32m━━━━━━━━━━━━━━━━━━━━\u001b[0m\u001b[37m\u001b[0m \u001b[1m1s\u001b[0m 7ms/step - accuracy: 0.9357 - loss: 0.2546 - val_accuracy: 0.8214 - val_loss: 0.4719\n",
      "Epoch 18/25\n",
      "\u001b[1m191/191\u001b[0m \u001b[32m━━━━━━━━━━━━━━━━━━━━\u001b[0m\u001b[37m\u001b[0m \u001b[1m2s\u001b[0m 9ms/step - accuracy: 0.9375 - loss: 0.2524 - val_accuracy: 0.8201 - val_loss: 0.4817\n",
      "Epoch 19/25\n",
      "\u001b[1m191/191\u001b[0m \u001b[32m━━━━━━━━━━━━━━━━━━━━\u001b[0m\u001b[37m\u001b[0m \u001b[1m1s\u001b[0m 8ms/step - accuracy: 0.9365 - loss: 0.2557 - val_accuracy: 0.8188 - val_loss: 0.4859\n",
      "Epoch 20/25\n",
      "\u001b[1m191/191\u001b[0m \u001b[32m━━━━━━━━━━━━━━━━━━━━\u001b[0m\u001b[37m\u001b[0m \u001b[1m2s\u001b[0m 9ms/step - accuracy: 0.9360 - loss: 0.2604 - val_accuracy: 0.8135 - val_loss: 0.4955\n",
      "Epoch 21/25\n",
      "\u001b[1m191/191\u001b[0m \u001b[32m━━━━━━━━━━━━━━━━━━━━\u001b[0m\u001b[37m\u001b[0m \u001b[1m2s\u001b[0m 8ms/step - accuracy: 0.9345 - loss: 0.2542 - val_accuracy: 0.8116 - val_loss: 0.5053\n",
      "Epoch 22/25\n",
      "\u001b[1m191/191\u001b[0m \u001b[32m━━━━━━━━━━━━━━━━━━━━\u001b[0m\u001b[37m\u001b[0m \u001b[1m2s\u001b[0m 9ms/step - accuracy: 0.9420 - loss: 0.2549 - val_accuracy: 0.8207 - val_loss: 0.4822\n",
      "Epoch 23/25\n",
      "\u001b[1m191/191\u001b[0m \u001b[32m━━━━━━━━━━━━━━━━━━━━\u001b[0m\u001b[37m\u001b[0m \u001b[1m2s\u001b[0m 8ms/step - accuracy: 0.9409 - loss: 0.2538 - val_accuracy: 0.8083 - val_loss: 0.4922\n",
      "Epoch 24/25\n",
      "\u001b[1m191/191\u001b[0m \u001b[32m━━━━━━━━━━━━━━━━━━━━\u001b[0m\u001b[37m\u001b[0m \u001b[1m1s\u001b[0m 7ms/step - accuracy: 0.9388 - loss: 0.2577 - val_accuracy: 0.8142 - val_loss: 0.5021\n",
      "Epoch 25/25\n",
      "\u001b[1m191/191\u001b[0m \u001b[32m━━━━━━━━━━━━━━━━━━━━\u001b[0m\u001b[37m\u001b[0m \u001b[1m2s\u001b[0m 8ms/step - accuracy: 0.9432 - loss: 0.2506 - val_accuracy: 0.8181 - val_loss: 0.4936\n"
     ]
    }
   ],
   "source": [
    "history_0 = model_0.fit(\n",
    "    X_train,\n",
    "    y_train,\n",
    "    epochs=25,\n",
    "    validation_data = (X_val, y_val)\n",
    ")"
   ]
  },
  {
   "cell_type": "code",
   "execution_count": 124,
   "metadata": {},
   "outputs": [
    {
     "data": {
      "text/plain": [
       "<Axes: >"
      ]
     },
     "execution_count": 124,
     "metadata": {},
     "output_type": "execute_result"
    },
    {
     "data": {
      "image/png": "[encoded data removed]",
      "text/plain": [
       "<Figure size 640x480 with 1 Axes>"
      ]
     },
     "metadata": {},
     "output_type": "display_data"
    }
   ],
   "source": [
    "pd.DataFrame(history_0.history).plot()"
   ]
  },
  {
   "cell_type": "markdown",
   "metadata": {},
   "source": [
    "# Model is over fitting let's add dropouts"
   ]
  },
  {
   "cell_type": "code",
   "execution_count": 125,
   "metadata": {},
   "outputs": [],
   "source": [
    "inputs = keras.layers.Input(shape=(513,), name='input_layer')\n",
    "\n",
    "x = keras.layers.Embedding(input_dim=1000, output_dim=16)(inputs[...,0:1])\n",
    "x = keras.layers.GlobalAveragePooling1D()(x)\n",
    "x = keras.layers.Dense(64, activation='relu')(x)\n",
    "x = keras.layers.Dropout(0.5)(x)\n",
    "outputs1 = keras.layers.Dense(1, activation='sigmoid')(x)\n",
    "\n",
    "x = keras.layers.Dense(128, activation='relu')(inputs[...,1:])\n",
    "x = keras.layers.Dropout(0.5)(x)\n",
    "x = keras.layers.Dense(32, activation='relu')(x)\n",
    "x = keras.layers.Dropout(0.5)(x)\n",
    "outputs2 = keras.layers.Dense(1, activation='sigmoid')(x)\n",
    "\n",
    "outputs = keras.layers.Average()([outputs1, outputs2])\n",
    "\n",
    "predictor_1 = keras.Model(inputs, outputs)"
   ]
  },
  {
   "cell_type": "code",
   "execution_count": 126,
   "metadata": {},
   "outputs": [],
   "source": [
    "model_1 = Model(\n",
    "    TextVectorization(max_tokens=1000, output_sequence_length=1),\n",
    "    embedding_layer,\n",
    "    predictor_1,\n",
    "    name='model_1_Dropout'\n",
    ")"
   ]
  },
  {
   "cell_type": "code",
   "execution_count": 127,
   "metadata": {},
   "outputs": [
    {
     "name": "stdout",
     "output_type": "stream",
     "text": [
      "Saving log files to : /home/yehand/.vscode-server/projects/NLP/experiments/model_1_Dropout/RUN0\n",
      "Epoch 1/10\n",
      "\u001b[1m191/191\u001b[0m \u001b[32m━━━━━━━━━━━━━━━━━━━━\u001b[0m\u001b[37m\u001b[0m \u001b[1m8s\u001b[0m 25ms/step - accuracy: 0.6828 - loss: 0.6295 - val_accuracy: 0.8116 - val_loss: 0.4511\n",
      "Epoch 2/10\n",
      "\u001b[1m191/191\u001b[0m \u001b[32m━━━━━━━━━━━━━━━━━━━━\u001b[0m\u001b[37m\u001b[0m \u001b[1m3s\u001b[0m 14ms/step - accuracy: 0.8099 - loss: 0.4448 - val_accuracy: 0.8214 - val_loss: 0.4188\n",
      "Epoch 3/10\n",
      "\u001b[1m191/191\u001b[0m \u001b[32m━━━━━━━━━━━━━━━━━━━━\u001b[0m\u001b[37m\u001b[0m \u001b[1m3s\u001b[0m 14ms/step - accuracy: 0.8324 - loss: 0.4141 - val_accuracy: 0.8162 - val_loss: 0.4186\n",
      "Epoch 4/10\n",
      "\u001b[1m191/191\u001b[0m \u001b[32m━━━━━━━━━━━━━━━━━━━━\u001b[0m\u001b[37m\u001b[0m \u001b[1m1s\u001b[0m 8ms/step - accuracy: 0.8284 - loss: 0.4009 - val_accuracy: 0.8293 - val_loss: 0.4171\n",
      "Epoch 5/10\n",
      "\u001b[1m191/191\u001b[0m \u001b[32m━━━━━━━━━━━━━━━━━━━━\u001b[0m\u001b[37m\u001b[0m \u001b[1m2s\u001b[0m 9ms/step - accuracy: 0.8391 - loss: 0.3994 - val_accuracy: 0.8247 - val_loss: 0.4200\n",
      "Epoch 6/10\n",
      "\u001b[1m191/191\u001b[0m \u001b[32m━━━━━━━━━━━━━━━━━━━━\u001b[0m\u001b[37m\u001b[0m \u001b[1m2s\u001b[0m 12ms/step - accuracy: 0.8454 - loss: 0.3813 - val_accuracy: 0.8181 - val_loss: 0.4238\n",
      "Epoch 7/10\n",
      "\u001b[1m191/191\u001b[0m \u001b[32m━━━━━━━━━━━━━━━━━━━━\u001b[0m\u001b[37m\u001b[0m \u001b[1m2s\u001b[0m 9ms/step - accuracy: 0.8482 - loss: 0.3809 - val_accuracy: 0.8240 - val_loss: 0.4213\n",
      "Epoch 8/10\n",
      "\u001b[1m191/191\u001b[0m \u001b[32m━━━━━━━━━━━━━━━━━━━━\u001b[0m\u001b[37m\u001b[0m \u001b[1m1s\u001b[0m 7ms/step - accuracy: 0.8593 - loss: 0.3603 - val_accuracy: 0.8214 - val_loss: 0.4223\n",
      "Epoch 9/10\n",
      "\u001b[1m191/191\u001b[0m \u001b[32m━━━━━━━━━━━━━━━━━━━━\u001b[0m\u001b[37m\u001b[0m \u001b[1m2s\u001b[0m 9ms/step - accuracy: 0.8519 - loss: 0.3671 - val_accuracy: 0.8280 - val_loss: 0.4205\n",
      "Epoch 10/10\n",
      "\u001b[1m191/191\u001b[0m \u001b[32m━━━━━━━━━━━━━━━━━━━━\u001b[0m\u001b[37m\u001b[0m \u001b[1m2s\u001b[0m 9ms/step - accuracy: 0.8628 - loss: 0.3518 - val_accuracy: 0.8286 - val_loss: 0.4236\n"
     ]
    }
   ],
   "source": [
    "history_1 = model_1.fit(\n",
    "    X_train,\n",
    "    y_train,\n",
    "    epochs=10,\n",
    "    validation_data = (X_val, y_val)\n",
    ")"
   ]
  },
  {
   "cell_type": "code",
   "execution_count": 128,
   "metadata": {},
   "outputs": [
    {
     "name": "stdout",
     "output_type": "stream",
     "text": [
      "The tensorboard extension is already loaded. To reload it, use:\n",
      "  %reload_ext tensorboard\n"
     ]
    }
   ],
   "source": [
    "%load_ext tensorboard\n"
   ]
  },
  {
   "cell_type": "markdown",
   "metadata": {},
   "source": [
    "# Add a data cleaning step"
   ]
  },
  {
   "cell_type": "code",
   "execution_count": 129,
   "metadata": {},
   "outputs": [
    {
     "data": {
      "text/plain": [
       "['',\n",
       " '[UNK]',\n",
       " 'nan',\n",
       " 'oil20spill',\n",
       " 'sunk',\n",
       " 'outbreak',\n",
       " 'fear',\n",
       " 'fatalities',\n",
       " 'armageddon',\n",
       " 'siren',\n",
       " 'massacre',\n",
       " 'fatal',\n",
       " 'emergency',\n",
       " 'damage',\n",
       " 'collision',\n",
       " 'typhoon',\n",
       " 'thunder',\n",
       " 'earthquake',\n",
       " 'drowned',\n",
       " 'desolation',\n",
       " 'attack',\n",
       " 'ruin',\n",
       " 'razed',\n",
       " 'pandemonium',\n",
       " 'hail',\n",
       " 'flooding',\n",
       " 'flood',\n",
       " 'explode',\n",
       " 'derailment',\n",
       " 'debris',\n",
       " 'collided',\n",
       " 'collapsed',\n",
       " 'bombed',\n",
       " 'blizzard',\n",
       " 'ambulance',\n",
       " 'wrecked',\n",
       " 'wreckage',\n",
       " 'wounded',\n",
       " 'weapon',\n",
       " 'violent20storm',\n",
       " 'traumatised',\n",
       " 'sinking',\n",
       " 'rescued',\n",
       " 'nuclear20reactor',\n",
       " 'lava',\n",
       " 'inundated',\n",
       " 'harm',\n",
       " 'fire',\n",
       " 'famine',\n",
       " 'drowning',\n",
       " 'deluge',\n",
       " 'danger',\n",
       " 'body20bags',\n",
       " 'blaze',\n",
       " 'attacked',\n",
       " 'ablaze',\n",
       " 'weapons',\n",
       " 'twister',\n",
       " 'tragedy',\n",
       " 'stretcher',\n",
       " 'riot',\n",
       " 'police',\n",
       " 'injuries',\n",
       " 'hurricane',\n",
       " 'fire20truck',\n",
       " 'detonate',\n",
       " 'destroy',\n",
       " 'demolish',\n",
       " 'deaths',\n",
       " 'curfew',\n",
       " 'crashed',\n",
       " 'catastrophe',\n",
       " 'bleeding',\n",
       " 'windstorm',\n",
       " 'tornado',\n",
       " 'terrorism',\n",
       " 'screams',\n",
       " 'screaming',\n",
       " 'refugees',\n",
       " 'rainstorm',\n",
       " 'panic',\n",
       " 'meltdown',\n",
       " 'injury',\n",
       " 'hostages',\n",
       " 'hijack',\n",
       " 'hellfire',\n",
       " 'flames',\n",
       " 'engulfed',\n",
       " 'cliff20fall',\n",
       " 'casualties',\n",
       " 'burning',\n",
       " 'body20bagging',\n",
       " 'blight',\n",
       " 'wreck',\n",
       " 'whirlwind',\n",
       " 'tsunami',\n",
       " 'trouble',\n",
       " 'trapped',\n",
       " 'survived',\n",
       " 'suicide20bombing',\n",
       " 'smoke',\n",
       " 'rioting',\n",
       " 'rescuers',\n",
       " 'loud20bang',\n",
       " 'hijacker',\n",
       " 'floods',\n",
       " 'explosion',\n",
       " 'evacuated',\n",
       " 'electrocuted',\n",
       " 'dust20storm',\n",
       " 'disaster',\n",
       " 'crush',\n",
       " 'crash',\n",
       " 'casualty',\n",
       " 'burning20buildings',\n",
       " 'burned',\n",
       " 'buildings20burning',\n",
       " 'bridge20collapse',\n",
       " 'army',\n",
       " 'annihilated',\n",
       " 'wildfire',\n",
       " 'survive',\n",
       " 'suicide20bomb',\n",
       " 'sirens',\n",
       " 'sinkhole',\n",
       " 'sandstorm',\n",
       " 'quarantined',\n",
       " 'natural20disaster',\n",
       " 'mudslide',\n",
       " 'mass20murderer',\n",
       " 'lightning',\n",
       " 'landslide',\n",
       " 'hazardous',\n",
       " 'hazard',\n",
       " 'flattened',\n",
       " 'fatality',\n",
       " 'evacuation',\n",
       " 'evacuate',\n",
       " 'drought',\n",
       " 'destruction',\n",
       " 'derailed',\n",
       " 'death',\n",
       " 'dead',\n",
       " 'blood',\n",
       " 'arsonist',\n",
       " 'airplane20accident',\n",
       " 'aftershock',\n",
       " 'structural20failure',\n",
       " 'seismic',\n",
       " 'nuclear20disaster',\n",
       " 'military',\n",
       " 'mayhem',\n",
       " 'mass20murder',\n",
       " 'hostage',\n",
       " 'forest20fires',\n",
       " 'exploded',\n",
       " 'displaced',\n",
       " 'derail',\n",
       " 'collapse',\n",
       " 'buildings20on20fire',\n",
       " 'blown20up',\n",
       " 'bloody',\n",
       " 'blazing',\n",
       " 'bioterror',\n",
       " 'arson',\n",
       " 'accident',\n",
       " 'thunderstorm',\n",
       " 'suicide20bomber',\n",
       " 'storm',\n",
       " 'screamed',\n",
       " 'quarantine',\n",
       " 'obliterate',\n",
       " 'heat20wave',\n",
       " 'first20responders',\n",
       " 'drown',\n",
       " 'devastation',\n",
       " 'devastated',\n",
       " 'demolition',\n",
       " 'cyclone',\n",
       " 'crushed',\n",
       " 'collide',\n",
       " 'body20bag',\n",
       " 'annihilation',\n",
       " 'survivors',\n",
       " 'panicking',\n",
       " 'injured',\n",
       " 'hailstorm',\n",
       " 'detonation',\n",
       " 'bioterrorism',\n",
       " 'avalanche',\n",
       " 'wild20fires',\n",
       " 'upheaval',\n",
       " 'rubble',\n",
       " 'obliterated',\n",
       " 'hijacking',\n",
       " 'eyewitness',\n",
       " 'destroyed',\n",
       " 'chemical20emergency',\n",
       " 'catastrophic',\n",
       " 'apocalypse',\n",
       " 'wounds',\n",
       " 'trauma',\n",
       " 'obliteration',\n",
       " 'electrocute',\n",
       " 'bomb',\n",
       " 'volcano',\n",
       " 'terrorist',\n",
       " 'snowstorm',\n",
       " 'emergency20plan',\n",
       " 'desolate',\n",
       " 'blew20up',\n",
       " 'battle',\n",
       " 'deluged',\n",
       " 'emergency20services',\n",
       " 'demolished',\n",
       " 'bush20fires',\n",
       " 'bombing',\n",
       " 'war20zone',\n",
       " 'rescue',\n",
       " 'forest20fire',\n",
       " 'epicentre',\n",
       " 'threat',\n",
       " 'radiation20emergency',\n",
       " 'inundation']"
      ]
     },
     "execution_count": 129,
     "metadata": {},
     "output_type": "execute_result"
    }
   ],
   "source": [
    "model_1.vectorizer.get_vocabulary()\n",
    "# Looks like nothing to clean in keys"
   ]
  },
  {
   "cell_type": "code",
   "execution_count": 130,
   "metadata": {},
   "outputs": [
    {
     "data": {
      "text/plain": [
       "(array(['This is my jam: Riser by Dierks Bentley ? #iHeartRadio #NowPlaying',\n",
       "        \"Roger Goodell's Fatal Mistake: Tom Brady An Innocent Man\",\n",
       "        'Again?? Eep! Thought of you yesterday when I saw that hella scary hail. #armageddon?',\n",
       "        \"Lol The real issue is the the way the NFL is trying to ruin this guy's legacy. https://t.co/s107ee7CYC\",\n",
       "        '0-day bug in fully patched OS X comes under active exploit to bypass password ... - Ars Technica',\n",
       "        \"'So again make sure to evacuate past the fire doors. Any questions? Yes?' 'Why would we open the doors to the fire!!?!??!?' I...I..I cant\",\n",
       "        'Guaranteed been bitten by some mutant mosquito my ankle has blown up. Little cunts',\n",
       "        \"that's not my take from his piece. Not putting that ambition in check will destroy the change we voted for the change we seek\",\n",
       "        'Tension In Bayelsa As Patience Jonathan Plans To Hijack APC PDP',\n",
       "        'WE COULD HAVE HAD IT AAAAAAALLLL I\\x89Ûªm not even on that season and I\\x89Ûªm devastated'],\n",
       "       dtype='<U157'),\n",
       " array([0, 0, 1, 0, 0, 0, 0, 0, 1, 1]))"
      ]
     },
     "execution_count": 130,
     "metadata": {},
     "output_type": "execute_result"
    }
   ],
   "source": [
    "Index = 10\n",
    "num_samples= 10\n",
    "X_train[...,1][Index: Index+num_samples], y_train[Index: Index+num_samples]"
   ]
  },
  {
   "cell_type": "markdown",
   "metadata": {},
   "source": [
    "We can remove the twitter links and the mentions of other users\n",
    "\n",
    "methods - we can split all sentences and remove words starting with ' http://t.co' and remove all words starting with '@'\n",
    "\n",
    "possible errors - we might remove useful words that start with these prefixes but it might be very rare"
   ]
  },
  {
   "cell_type": "code",
   "execution_count": 131,
   "metadata": {},
   "outputs": [],
   "source": [
    "def clean(dataset):\n",
    "    cleaned = []\n",
    "    for i in range(len(dataset)) :\n",
    "        sentence = []\n",
    "        print(dataset[i].split())\n",
    "        for word in dataset[i].split():\n",
    "            if word[0] == '@' or word[:12] == 'https://t.co':\n",
    "                pass\n",
    "            else:\n",
    "                sentence.append(word)\n",
    "        cleaned.append(' '.join(sentence))\n",
    "    return np.array(cleaned)"
   ]
  },
  {
   "cell_type": "code",
   "execution_count": 132,
   "metadata": {},
   "outputs": [
    {
     "name": "stdout",
     "output_type": "stream",
     "text": [
      "[\"I've\", 'been', 'bleeding', 'in', 'your', 'silence', 'I', 'feel', 'safer', 'in', 'your', 'violence', '.']\n",
      "['I', 'totally', 'agree.', 'They', 'rape', 'kill', 'destroy', 'and', 'leave', 'land', 'desolate.', 'Action', 'needs', 'to', 'happen', 'before', 'the', 'swarm', 'swells.', 'https://t.co/Twcds433YI']\n",
      "['A', 'sandstorm', 'in', 'Jordan', 'has', 'coated', 'the', 'Middle', 'East\\x89Ûªs', 'largest', 'refugee', 'camp', 'in', 'a', 'layer', 'of', 'grit']\n",
      "['New', 'music', 'from', 'featuring', 'M.O.P.?', \"'Detonate'\", 'taken', 'off', 'his', 'album', \"'Grandeur'\", 'coming', 'soon', '-']\n",
      "['I', \"can't\", 'listen', 'to', 'Darude', 'Sandstorm', 'without', 'expecting', 'airhorns', 'now']\n",
      "['White', 'people', 'I', 'know', 'you', 'worry', 'tirelessly', 'about', 'black', 'on', 'black', 'crime', 'but', 'what', 'are', 'you', 'going', 'to', 'do', 'about', 'your', 'mass', 'murderer', 'problem?']\n",
      "['2', 'hostages', 'in', 'Libya', 'remain', 'unharmed:', 'Government', 'sources', 'on', 'Wednesday', 'denied', 'reports', 'that', 'two', 'Indian', 'nationals', 'who\\x89Û_']\n",
      "['Mourning', 'notices', 'for', 'stabbing', 'arson', 'victims', 'stir', '\\x89Û÷politics', 'of', 'grief\\x89Ûª', 'in', 'Israel']\n",
      "['11', 'soldiers', 'killed', 'in', 'ISIS', 'suicide', 'bomb', 'in', 'air', 'base', 'east', 'Homs', 'SYRIA', 'NEWS', '|', 'ZAMAN', 'ALWSL', '-', '#ISIS', '#Homs']\n",
      "[\"Oregon's\", 'biggest', 'wildfire', 'slows', 'growth', 'via']\n"
     ]
    },
    {
     "data": {
      "text/plain": [
       "(array([\"I've been bleeding in your silence I feel safer in your violence .\",\n",
       "        'I totally agree. They rape kill destroy and leave land desolate. Action needs to happen before the swarm swells. https://t.co/Twcds433YI',\n",
       "        'A sandstorm in Jordan has coated the Middle East\\x89Ûªs largest refugee camp in a layer of grit',\n",
       "        \"New music from featuring M.O.P.? 'Detonate' taken off his album 'Grandeur' coming soon -\",\n",
       "        \"I can't listen to Darude Sandstorm without expecting airhorns now\",\n",
       "        'White people I know you worry tirelessly about black on black crime but what are you going to do about your mass murderer problem?',\n",
       "        '2 hostages in Libya remain unharmed: Government sources on Wednesday denied reports that two Indian nationals who\\x89Û_',\n",
       "        'Mourning notices for stabbing arson victims stir \\x89Û÷politics of grief\\x89Ûª in Israel',\n",
       "        '11 soldiers killed in ISIS suicide bomb in air base east Homs SYRIA NEWS | ZAMAN ALWSL - #ISIS #Homs',\n",
       "        \"Oregon's biggest wildfire slows growth via\"], dtype='<U157'),\n",
       " array([0, 1, 1, 0, 0, 1, 1, 1, 1, 1]),\n",
       " array([\"I've been bleeding in your silence I feel safer in your violence .\",\n",
       "        'I totally agree. They rape kill destroy and leave land desolate. Action needs to happen before the swarm swells.',\n",
       "        'A sandstorm in Jordan has coated the Middle East\\x89Ûªs largest refugee camp in a layer of grit',\n",
       "        \"New music from featuring M.O.P.? 'Detonate' taken off his album 'Grandeur' coming soon -\",\n",
       "        \"I can't listen to Darude Sandstorm without expecting airhorns now\",\n",
       "        'White people I know you worry tirelessly about black on black crime but what are you going to do about your mass murderer problem?',\n",
       "        '2 hostages in Libya remain unharmed: Government sources on Wednesday denied reports that two Indian nationals who\\x89Û_',\n",
       "        'Mourning notices for stabbing arson victims stir \\x89Û÷politics of grief\\x89Ûª in Israel',\n",
       "        '11 soldiers killed in ISIS suicide bomb in air base east Homs SYRIA NEWS | ZAMAN ALWSL - #ISIS #Homs',\n",
       "        \"Oregon's biggest wildfire slows growth via\"], dtype='<U130'))"
      ]
     },
     "execution_count": 132,
     "metadata": {},
     "output_type": "execute_result"
    }
   ],
   "source": [
    "Index = 350\n",
    "num_samples= 10\n",
    "X_train[...,1][Index: Index+num_samples], y_train[Index: Index+num_samples], clean(X_train[...,1][Index: Index+num_samples])"
   ]
  },
  {
   "cell_type": "code",
   "execution_count": null,
   "metadata": {},
   "outputs": [],
   "source": [
    "class Model():\n",
    "\n",
    "    def __init__(self, vectorizer, embedder, predictor , name : str=''):\n",
    "\n",
    "        self.vectorizer = vectorizer\n",
    "        self.embedder = embedder\n",
    "        self.predictor = keras.models.clone_model(predictor)\n",
    "        self.predictor.set_weights(predictor.get_weights())\n",
    "        self.predictor.compile(optimizer = keras.optimizers.Adam(), loss=keras.losses.BinaryCrossentropy(), metrics=['accuracy'])\n",
    "        self.experiment_count = 0 \n",
    "        self.name = name\n",
    "\n",
    "    def fit(self, X, y, epochs, validation_data, batch_size=BATCH_SIZE, initial_epoch=0):\n",
    "        Xt, y_val = validation_data\n",
    "\n",
    "        x1 = X[...,0]\n",
    "\n",
    "        self.vectorizer.adapt(x1)\n",
    "       \n",
    "        X_val = self.transform(Xt)\n",
    "\n",
    "        X_train = self.transform(X)\n",
    "                \n",
    "        tbcallback = create_tensorboard_callback(self.name, f'RUN{self.experiment_count}')\n",
    "        history = self.predictor.fit(\n",
    "            X_train, \n",
    "            y, \n",
    "            epochs=epochs, \n",
    "            validation_data=(X_val, y_val), \n",
    "            batch_size=batch_size, \n",
    "            initial_epoch=initial_epoch, \n",
    "            callbacks=[tbcallback],\n",
    "        )\n",
    "        self.experiment_count +=1\n",
    "        return history\n",
    "\n",
    "    def predict(self, X):\n",
    "\n",
    "        transformed = self.transform(X)\n",
    "        return self.predictor.predict(transformed)\n",
    "    \n",
    "    def clean(self, text):\n",
    "        cleaned = []\n",
    "        for i in range(len(text)) :\n",
    "            sentence = []\n",
    "            for word in text[i].split():\n",
    "                if word[0] == '@' or word[:12] == 'https://t.co':\n",
    "                    pass\n",
    "                else:\n",
    "                    sentence.append(word)\n",
    "            cleaned.append(' '.join(sentence))\n",
    "        return np.array(cleaned)\n",
    "    \n",
    "    def transform(self, X):\n",
    "\n",
    "        x1 = X[...,0]\n",
    "        x2 = X[...,1]\n",
    "        x2 = self.clean(x2)\n",
    "        vx = self.vectorizer(x1)\n",
    "        ex = self.embedder(x2)\n",
    "        return np.concatenate((vx, ex),axis=-1)"
   ]
  },
  {
   "cell_type": "markdown",
   "metadata": {},
   "source": [
    "## Testing with same architecture"
   ]
  },
  {
   "cell_type": "code",
   "execution_count": 145,
   "metadata": {},
   "outputs": [],
   "source": [
    "model_2 = Model(\n",
    "    TextVectorization(max_tokens=1000, output_sequence_length=1),\n",
    "    embedding_layer,\n",
    "    predictor_1,\n",
    "    name='model_2_Dropout+Clean'\n",
    ")"
   ]
  },
  {
   "cell_type": "code",
   "execution_count": 146,
   "metadata": {},
   "outputs": [
    {
     "name": "stdout",
     "output_type": "stream",
     "text": [
      "[ True False False ...  True False  True]\n",
      "[ True  True  True ...  True  True  True]\n",
      "Saving log files to : /home/yehand/.vscode-server/projects/NLP/experiments/model_2_Dropout+Clean/RUN0\n",
      "Epoch 1/5\n",
      "\u001b[1m191/191\u001b[0m \u001b[32m━━━━━━━━━━━━━━━━━━━━\u001b[0m\u001b[37m\u001b[0m \u001b[1m10s\u001b[0m 34ms/step - accuracy: 0.6955 - loss: 0.6316 - val_accuracy: 0.8116 - val_loss: 0.4649\n",
      "Epoch 2/5\n",
      "\u001b[1m191/191\u001b[0m \u001b[32m━━━━━━━━━━━━━━━━━━━━\u001b[0m\u001b[37m\u001b[0m \u001b[1m3s\u001b[0m 14ms/step - accuracy: 0.8158 - loss: 0.4565 - val_accuracy: 0.8299 - val_loss: 0.4195\n",
      "Epoch 3/5\n",
      "\u001b[1m191/191\u001b[0m \u001b[32m━━━━━━━━━━━━━━━━━━━━\u001b[0m\u001b[37m\u001b[0m \u001b[1m2s\u001b[0m 10ms/step - accuracy: 0.8211 - loss: 0.4145 - val_accuracy: 0.8319 - val_loss: 0.4190\n",
      "Epoch 4/5\n",
      "\u001b[1m191/191\u001b[0m \u001b[32m━━━━━━━━━━━━━━━━━━━━\u001b[0m\u001b[37m\u001b[0m \u001b[1m2s\u001b[0m 12ms/step - accuracy: 0.8372 - loss: 0.3943 - val_accuracy: 0.8221 - val_loss: 0.4205\n",
      "Epoch 5/5\n",
      "\u001b[1m191/191\u001b[0m \u001b[32m━━━━━━━━━━━━━━━━━━━━\u001b[0m\u001b[37m\u001b[0m \u001b[1m2s\u001b[0m 11ms/step - accuracy: 0.8448 - loss: 0.3812 - val_accuracy: 0.8273 - val_loss: 0.4217\n"
     ]
    }
   ],
   "source": [
    "history_2 = model_2.fit(\n",
    "    X_train,\n",
    "    y_train,\n",
    "    epochs=5,\n",
    "    validation_data = (X_val, y_val)\n",
    ")"
   ]
  },
  {
   "cell_type": "code",
   "execution_count": 160,
   "metadata": {},
   "outputs": [
    {
     "name": "stdout",
     "output_type": "stream",
     "text": [
      "[ True  True]\n",
      "\u001b[1m1/1\u001b[0m \u001b[32m━━━━━━━━━━━━━━━━━━━━\u001b[0m\u001b[37m\u001b[0m \u001b[1m0s\u001b[0m 57ms/step\n"
     ]
    },
    {
     "data": {
      "text/plain": [
       "array([[1],\n",
       "       [0]], dtype=int16)"
      ]
     },
     "execution_count": 160,
     "metadata": {},
     "output_type": "execute_result"
    }
   ],
   "source": [
    "# Performance seems good\n",
    "# Checking custom samples\n",
    "data = np.array([\n",
    "    ['wounded', 'people wounded in airplane crash some might be dead'],\n",
    "    ['cool', 'the new tesla robot is cool af #tesla']\n",
    "])\n",
    "np.round(model_2.predict(data)).astype(np.int16)"
   ]
  },
  {
   "cell_type": "markdown",
   "metadata": {},
   "source": [
    "# Creating Submission File"
   ]
  },
  {
   "cell_type": "code",
   "execution_count": 162,
   "metadata": {},
   "outputs": [
    {
     "data": {
      "text/html": [
       "<div>\n",
       "<style scoped>\n",
       "    .dataframe tbody tr th:only-of-type {\n",
       "        vertical-align: middle;\n",
       "    }\n",
       "\n",
       "    .dataframe tbody tr th {\n",
       "        vertical-align: top;\n",
       "    }\n",
       "\n",
       "    .dataframe thead th {\n",
       "        text-align: right;\n",
       "    }\n",
       "</style>\n",
       "<table border=\"1\" class=\"dataframe\">\n",
       "  <thead>\n",
       "    <tr style=\"text-align: right;\">\n",
       "      <th></th>\n",
       "      <th>id</th>\n",
       "      <th>keyword</th>\n",
       "      <th>location</th>\n",
       "      <th>text</th>\n",
       "    </tr>\n",
       "  </thead>\n",
       "  <tbody>\n",
       "    <tr>\n",
       "      <th>0</th>\n",
       "      <td>0</td>\n",
       "      <td>NaN</td>\n",
       "      <td>NaN</td>\n",
       "      <td>Just happened a terrible car crash</td>\n",
       "    </tr>\n",
       "    <tr>\n",
       "      <th>1</th>\n",
       "      <td>2</td>\n",
       "      <td>NaN</td>\n",
       "      <td>NaN</td>\n",
       "      <td>Heard about #earthquake is different cities, s...</td>\n",
       "    </tr>\n",
       "    <tr>\n",
       "      <th>2</th>\n",
       "      <td>3</td>\n",
       "      <td>NaN</td>\n",
       "      <td>NaN</td>\n",
       "      <td>there is a forest fire at spot pond, geese are...</td>\n",
       "    </tr>\n",
       "    <tr>\n",
       "      <th>3</th>\n",
       "      <td>9</td>\n",
       "      <td>NaN</td>\n",
       "      <td>NaN</td>\n",
       "      <td>Apocalypse lighting. #Spokane #wildfires</td>\n",
       "    </tr>\n",
       "    <tr>\n",
       "      <th>4</th>\n",
       "      <td>11</td>\n",
       "      <td>NaN</td>\n",
       "      <td>NaN</td>\n",
       "      <td>Typhoon Soudelor kills 28 in China and Taiwan</td>\n",
       "    </tr>\n",
       "  </tbody>\n",
       "</table>\n",
       "</div>"
      ],
      "text/plain": [
       "   id keyword location                                               text\n",
       "0   0     NaN      NaN                 Just happened a terrible car crash\n",
       "1   2     NaN      NaN  Heard about #earthquake is different cities, s...\n",
       "2   3     NaN      NaN  there is a forest fire at spot pond, geese are...\n",
       "3   9     NaN      NaN           Apocalypse lighting. #Spokane #wildfires\n",
       "4  11     NaN      NaN      Typhoon Soudelor kills 28 in China and Taiwan"
      ]
     },
     "execution_count": 162,
     "metadata": {},
     "output_type": "execute_result"
    }
   ],
   "source": [
    "test_df = pd.read_csv(DATA_DIR.joinpath('test.csv'))\n",
    "test_df.head()"
   ]
  },
  {
   "cell_type": "code",
   "execution_count": 163,
   "metadata": {},
   "outputs": [
    {
     "data": {
      "text/plain": [
       "(0     0\n",
       " 1     2\n",
       " 2     3\n",
       " 3     9\n",
       " 4    11\n",
       " Name: id, dtype: int64,\n",
       " array([['nan', 'Just happened a terrible car crash'],\n",
       "        ['nan',\n",
       "         'Heard about #earthquake is different cities, stay safe everyone.'],\n",
       "        ['nan',\n",
       "         'there is a forest fire at spot pond, geese are fleeing across the street, I cannot save them all'],\n",
       "        ['nan', 'Apocalypse lighting. #Spokane #wildfires'],\n",
       "        ['nan', 'Typhoon Soudelor kills 28 in China and Taiwan']],\n",
       "       dtype='<U151'))"
      ]
     },
     "execution_count": 163,
     "metadata": {},
     "output_type": "execute_result"
    }
   ],
   "source": [
    "ids = test_df['id']\n",
    "test_df = test_df[['keyword','text']].to_numpy(dtype=np.str_)\n",
    "ids.head(), test_df[:5]"
   ]
  },
  {
   "cell_type": "code",
   "execution_count": 164,
   "metadata": {},
   "outputs": [
    {
     "name": "stdout",
     "output_type": "stream",
     "text": [
      "[ True  True  True ...  True  True  True]\n",
      "\u001b[1m102/102\u001b[0m \u001b[32m━━━━━━━━━━━━━━━━━━━━\u001b[0m\u001b[37m\u001b[0m \u001b[1m4s\u001b[0m 24ms/step\n"
     ]
    },
    {
     "data": {
      "text/plain": [
       "array([1, 1, 1, 1, 1], dtype=int32)"
      ]
     },
     "execution_count": 164,
     "metadata": {},
     "output_type": "execute_result"
    }
   ],
   "source": [
    "test_preds = np.squeeze(np.round(model_2.predict(test_df)).astype(np.int32))\n",
    "test_preds[:5]"
   ]
  },
  {
   "cell_type": "code",
   "execution_count": 178,
   "metadata": {},
   "outputs": [],
   "source": [
    "submission_df = pd.DataFrame(data={\n",
    "    'id' : ids,\n",
    "    'target' : test_preds\n",
    "})\n",
    "submission_df.set_index('id', inplace=True)\n"
   ]
  },
  {
   "cell_type": "code",
   "execution_count": 179,
   "metadata": {},
   "outputs": [],
   "source": [
    "submission_df.to_csv(DATA_DIR.joinpath('Submission1.csv'))"
   ]
  }
 ],
 "metadata": {
  "kernelspec": {
   "display_name": "tfbootcamp",
   "language": "python",
   "name": "python3"
  },
  "language_info": {
   "codemirror_mode": {
    "name": "ipython",
    "version": 3
   },
   "file_extension": ".py",
   "mimetype": "text/x-python",
   "name": "python",
   "nbconvert_exporter": "python",
   "pygments_lexer": "ipython3",
   "version": "3.12.7"
  }
 },
 "nbformat": 4,
 "nbformat_minor": 2
}
